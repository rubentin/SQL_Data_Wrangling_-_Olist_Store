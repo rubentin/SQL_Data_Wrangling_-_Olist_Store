{
 "cells": [
  {
   "cell_type": "code",
   "execution_count": 1,
   "id": "1b169023",
   "metadata": {},
   "outputs": [],
   "source": [
    "# import library\n",
    "\n",
    "import pandas as pd\n",
    "import numpy as np\n",
    "import seaborn as sns\n",
    "import matplotlib.pyplot as plt\n",
    "import sqlite3\n",
    "from datetime import date, timedelta\n",
    "\n",
    "# ignore warnings\n",
    "\n",
    "import warnings\n",
    "warnings.filterwarnings('ignore')"
   ]
  },
  {
   "cell_type": "code",
   "execution_count": 2,
   "id": "1cb96f91",
   "metadata": {},
   "outputs": [],
   "source": [
    "# connect database\n",
    "\n",
    "con = sqlite3.connect(\"olist.db\")\n",
    "cur = con.cursor()"
   ]
  },
  {
   "cell_type": "code",
   "execution_count": 3,
   "id": "b2efd996",
   "metadata": {},
   "outputs": [
    {
     "name": "stdout",
     "output_type": "stream",
     "text": [
      "[('olist_order_customer_dataset',), ('olist_order_dataset',), ('olist_order_reviews_dataset',), ('olist_order_payments_dataset',), ('olist_order_items_dataset',), ('olist_products_dataset',), ('olist_sellers_dataset',), ('olist_geolocation_dataset',), ('product_category_name_translation',)]\n"
     ]
    }
   ],
   "source": [
    "# extract semua nama table\n",
    "\n",
    "cur.execute(\"SELECT name FROM sqlite_master WHERE type = 'table';\")\n",
    "print(cur.fetchall())"
   ]
  },
  {
   "cell_type": "code",
   "execution_count": 4,
   "id": "a87b76c0",
   "metadata": {},
   "outputs": [],
   "source": [
    "# convert table yang dibutuhkan menjadi pandas dataframes\n",
    "\n",
    "df_order_payments_dataset = pd.read_sql(\"SELECT * FROM olist_order_payments_dataset\", con)\n",
    "df_order_items_dataset =pd.read_sql(\"SELECT * FROM olist_order_items_dataset\", con)\n",
    "df_products_dataset = pd.read_sql(\"SELECT * FROM olist_products_dataset\", con)\n",
    "df_product_category_name_translation = pd.read_sql(\"SELECT * FROM product_category_name_translation\", con)\n",
    "\n",
    "# df_order_customer_dataset = pd.read_sql(\"SELECT * FROM olist_order_customer_dataset\", con)\n",
    "# df_order_dataset =pd.read_sql(\"SELECT * FROM olist_order_dataset\", con)\n",
    "# df_order_reviews_dataset = pd.read_sql(\"SELECT * FROM olist_order_reviews_dataset\", con)\n",
    "# df_sellers_dataset =pd.read_sql(\"SELECT * FROM olist_sellers_dataset\", con)\n",
    "# df_geolocation_dataset = pd.read_sql(\"SELECT * FROM olist_geolocation_dataset\", con)"
   ]
  },
  {
   "cell_type": "code",
   "execution_count": 5,
   "id": "cf10b94c",
   "metadata": {},
   "outputs": [
    {
     "data": {
      "text/html": [
       "<div>\n",
       "<style scoped>\n",
       "    .dataframe tbody tr th:only-of-type {\n",
       "        vertical-align: middle;\n",
       "    }\n",
       "\n",
       "    .dataframe tbody tr th {\n",
       "        vertical-align: top;\n",
       "    }\n",
       "\n",
       "    .dataframe thead th {\n",
       "        text-align: right;\n",
       "    }\n",
       "</style>\n",
       "<table border=\"1\" class=\"dataframe\">\n",
       "  <thead>\n",
       "    <tr style=\"text-align: right;\">\n",
       "      <th></th>\n",
       "      <th>index_x</th>\n",
       "      <th>order_id</th>\n",
       "      <th>order_item_id</th>\n",
       "      <th>product_id</th>\n",
       "      <th>seller_id</th>\n",
       "      <th>shipping_limit_date</th>\n",
       "      <th>price</th>\n",
       "      <th>freight_value</th>\n",
       "      <th>index_y</th>\n",
       "      <th>payment_sequential</th>\n",
       "      <th>...</th>\n",
       "      <th>product_category_name</th>\n",
       "      <th>product_name_lenght</th>\n",
       "      <th>product_description_lenght</th>\n",
       "      <th>product_photos_qty</th>\n",
       "      <th>product_weight_g</th>\n",
       "      <th>product_length_cm</th>\n",
       "      <th>product_height_cm</th>\n",
       "      <th>product_width_cm</th>\n",
       "      <th>index_y</th>\n",
       "      <th>product_category_name_english</th>\n",
       "    </tr>\n",
       "  </thead>\n",
       "  <tbody>\n",
       "    <tr>\n",
       "      <th>0</th>\n",
       "      <td>0.0</td>\n",
       "      <td>00010242fe8c5a6d1ba2dd792cb16214</td>\n",
       "      <td>1.0</td>\n",
       "      <td>4244733e06e7ecb4970a6e2683c13e61</td>\n",
       "      <td>48436dade18ac8b2bce089ec2a041202</td>\n",
       "      <td>2017-09-19 09:45:35</td>\n",
       "      <td>58.90</td>\n",
       "      <td>13.29</td>\n",
       "      <td>85283.0</td>\n",
       "      <td>1.0</td>\n",
       "      <td>...</td>\n",
       "      <td>cool_stuff</td>\n",
       "      <td>58.0</td>\n",
       "      <td>598.0</td>\n",
       "      <td>4.0</td>\n",
       "      <td>650.0</td>\n",
       "      <td>28.0</td>\n",
       "      <td>9.0</td>\n",
       "      <td>14.0</td>\n",
       "      <td>22.0</td>\n",
       "      <td>cool_stuff</td>\n",
       "    </tr>\n",
       "    <tr>\n",
       "      <th>1</th>\n",
       "      <td>8346.0</td>\n",
       "      <td>130898c0987d1801452a8ed92a670612</td>\n",
       "      <td>1.0</td>\n",
       "      <td>4244733e06e7ecb4970a6e2683c13e61</td>\n",
       "      <td>48436dade18ac8b2bce089ec2a041202</td>\n",
       "      <td>2017-07-05 02:44:11</td>\n",
       "      <td>55.90</td>\n",
       "      <td>17.96</td>\n",
       "      <td>39274.0</td>\n",
       "      <td>1.0</td>\n",
       "      <td>...</td>\n",
       "      <td>cool_stuff</td>\n",
       "      <td>58.0</td>\n",
       "      <td>598.0</td>\n",
       "      <td>4.0</td>\n",
       "      <td>650.0</td>\n",
       "      <td>28.0</td>\n",
       "      <td>9.0</td>\n",
       "      <td>14.0</td>\n",
       "      <td>22.0</td>\n",
       "      <td>cool_stuff</td>\n",
       "    </tr>\n",
       "    <tr>\n",
       "      <th>2</th>\n",
       "      <td>36646.0</td>\n",
       "      <td>532ed5e14e24ae1f0d735b91524b98b9</td>\n",
       "      <td>1.0</td>\n",
       "      <td>4244733e06e7ecb4970a6e2683c13e61</td>\n",
       "      <td>48436dade18ac8b2bce089ec2a041202</td>\n",
       "      <td>2018-05-23 10:56:25</td>\n",
       "      <td>64.90</td>\n",
       "      <td>18.33</td>\n",
       "      <td>87067.0</td>\n",
       "      <td>1.0</td>\n",
       "      <td>...</td>\n",
       "      <td>cool_stuff</td>\n",
       "      <td>58.0</td>\n",
       "      <td>598.0</td>\n",
       "      <td>4.0</td>\n",
       "      <td>650.0</td>\n",
       "      <td>28.0</td>\n",
       "      <td>9.0</td>\n",
       "      <td>14.0</td>\n",
       "      <td>22.0</td>\n",
       "      <td>cool_stuff</td>\n",
       "    </tr>\n",
       "    <tr>\n",
       "      <th>3</th>\n",
       "      <td>49108.0</td>\n",
       "      <td>6f8c31653edb8c83e1a739408b5ff750</td>\n",
       "      <td>1.0</td>\n",
       "      <td>4244733e06e7ecb4970a6e2683c13e61</td>\n",
       "      <td>48436dade18ac8b2bce089ec2a041202</td>\n",
       "      <td>2017-08-07 18:55:08</td>\n",
       "      <td>58.90</td>\n",
       "      <td>16.17</td>\n",
       "      <td>47987.0</td>\n",
       "      <td>1.0</td>\n",
       "      <td>...</td>\n",
       "      <td>cool_stuff</td>\n",
       "      <td>58.0</td>\n",
       "      <td>598.0</td>\n",
       "      <td>4.0</td>\n",
       "      <td>650.0</td>\n",
       "      <td>28.0</td>\n",
       "      <td>9.0</td>\n",
       "      <td>14.0</td>\n",
       "      <td>22.0</td>\n",
       "      <td>cool_stuff</td>\n",
       "    </tr>\n",
       "    <tr>\n",
       "      <th>4</th>\n",
       "      <td>55021.0</td>\n",
       "      <td>7d19f4ef4d04461989632411b7e588b9</td>\n",
       "      <td>1.0</td>\n",
       "      <td>4244733e06e7ecb4970a6e2683c13e61</td>\n",
       "      <td>48436dade18ac8b2bce089ec2a041202</td>\n",
       "      <td>2017-08-16 22:05:11</td>\n",
       "      <td>58.90</td>\n",
       "      <td>13.29</td>\n",
       "      <td>38405.0</td>\n",
       "      <td>1.0</td>\n",
       "      <td>...</td>\n",
       "      <td>cool_stuff</td>\n",
       "      <td>58.0</td>\n",
       "      <td>598.0</td>\n",
       "      <td>4.0</td>\n",
       "      <td>650.0</td>\n",
       "      <td>28.0</td>\n",
       "      <td>9.0</td>\n",
       "      <td>14.0</td>\n",
       "      <td>22.0</td>\n",
       "      <td>cool_stuff</td>\n",
       "    </tr>\n",
       "    <tr>\n",
       "      <th>...</th>\n",
       "      <td>...</td>\n",
       "      <td>...</td>\n",
       "      <td>...</td>\n",
       "      <td>...</td>\n",
       "      <td>...</td>\n",
       "      <td>...</td>\n",
       "      <td>...</td>\n",
       "      <td>...</td>\n",
       "      <td>...</td>\n",
       "      <td>...</td>\n",
       "      <td>...</td>\n",
       "      <td>...</td>\n",
       "      <td>...</td>\n",
       "      <td>...</td>\n",
       "      <td>...</td>\n",
       "      <td>...</td>\n",
       "      <td>...</td>\n",
       "      <td>...</td>\n",
       "      <td>...</td>\n",
       "      <td>...</td>\n",
       "      <td>...</td>\n",
       "    </tr>\n",
       "    <tr>\n",
       "      <th>118429</th>\n",
       "      <td>81651.0</td>\n",
       "      <td>b99217b1fcf2fdeace7b8d869b76cb91</td>\n",
       "      <td>1.0</td>\n",
       "      <td>57bdf3098169cccdb62221bd3e089cbd</td>\n",
       "      <td>d98eec89afa3380e14463da2aabaea72</td>\n",
       "      <td>2018-03-13 17:55:36</td>\n",
       "      <td>39.99</td>\n",
       "      <td>10.15</td>\n",
       "      <td>62723.0</td>\n",
       "      <td>1.0</td>\n",
       "      <td>...</td>\n",
       "      <td>fashion_roupa_infanto_juvenil</td>\n",
       "      <td>38.0</td>\n",
       "      <td>168.0</td>\n",
       "      <td>1.0</td>\n",
       "      <td>100.0</td>\n",
       "      <td>16.0</td>\n",
       "      <td>16.0</td>\n",
       "      <td>16.0</td>\n",
       "      <td>69.0</td>\n",
       "      <td>fashion_childrens_clothes</td>\n",
       "    </tr>\n",
       "    <tr>\n",
       "      <th>118430</th>\n",
       "      <td>82883.0</td>\n",
       "      <td>bc3ac768a8963f4ca68942ea6558fc9f</td>\n",
       "      <td>1.0</td>\n",
       "      <td>57bdf3098169cccdb62221bd3e089cbd</td>\n",
       "      <td>d98eec89afa3380e14463da2aabaea72</td>\n",
       "      <td>2018-03-28 03:09:01</td>\n",
       "      <td>39.99</td>\n",
       "      <td>6.43</td>\n",
       "      <td>49769.0</td>\n",
       "      <td>1.0</td>\n",
       "      <td>...</td>\n",
       "      <td>fashion_roupa_infanto_juvenil</td>\n",
       "      <td>38.0</td>\n",
       "      <td>168.0</td>\n",
       "      <td>1.0</td>\n",
       "      <td>100.0</td>\n",
       "      <td>16.0</td>\n",
       "      <td>16.0</td>\n",
       "      <td>16.0</td>\n",
       "      <td>69.0</td>\n",
       "      <td>fashion_childrens_clothes</td>\n",
       "    </tr>\n",
       "    <tr>\n",
       "      <th>118431</th>\n",
       "      <td>89240.0</td>\n",
       "      <td>cab08f0417a702d0f4782ec02356a4ac</td>\n",
       "      <td>1.0</td>\n",
       "      <td>8cfc3506cedc0626364457d254429118</td>\n",
       "      <td>dbb9b48c841a0e39e21f98e1a6b2ec3e</td>\n",
       "      <td>2017-10-09 04:28:12</td>\n",
       "      <td>89.99</td>\n",
       "      <td>17.07</td>\n",
       "      <td>94491.0</td>\n",
       "      <td>1.0</td>\n",
       "      <td>...</td>\n",
       "      <td>fashion_roupa_infanto_juvenil</td>\n",
       "      <td>47.0</td>\n",
       "      <td>327.0</td>\n",
       "      <td>3.0</td>\n",
       "      <td>300.0</td>\n",
       "      <td>30.0</td>\n",
       "      <td>20.0</td>\n",
       "      <td>20.0</td>\n",
       "      <td>69.0</td>\n",
       "      <td>fashion_childrens_clothes</td>\n",
       "    </tr>\n",
       "    <tr>\n",
       "      <th>118432</th>\n",
       "      <td>89524.0</td>\n",
       "      <td>cb53f0b6e8f9082a9f5a113765dd1236</td>\n",
       "      <td>1.0</td>\n",
       "      <td>8cfc3506cedc0626364457d254429118</td>\n",
       "      <td>dbb9b48c841a0e39e21f98e1a6b2ec3e</td>\n",
       "      <td>2018-06-11 22:50:09</td>\n",
       "      <td>89.99</td>\n",
       "      <td>7.49</td>\n",
       "      <td>44123.0</td>\n",
       "      <td>1.0</td>\n",
       "      <td>...</td>\n",
       "      <td>fashion_roupa_infanto_juvenil</td>\n",
       "      <td>47.0</td>\n",
       "      <td>327.0</td>\n",
       "      <td>3.0</td>\n",
       "      <td>300.0</td>\n",
       "      <td>30.0</td>\n",
       "      <td>20.0</td>\n",
       "      <td>20.0</td>\n",
       "      <td>69.0</td>\n",
       "      <td>fashion_childrens_clothes</td>\n",
       "    </tr>\n",
       "    <tr>\n",
       "      <th>118433</th>\n",
       "      <td>104990.0</td>\n",
       "      <td>ee86b68eb9222b0cad7da50f4f758a35</td>\n",
       "      <td>1.0</td>\n",
       "      <td>0ab3ab3b2869073aa9afe795fe9151aa</td>\n",
       "      <td>28ea411b354f14b1a494be4e79f0ce02</td>\n",
       "      <td>2017-05-24 17:55:12</td>\n",
       "      <td>110.00</td>\n",
       "      <td>14.52</td>\n",
       "      <td>100660.0</td>\n",
       "      <td>1.0</td>\n",
       "      <td>...</td>\n",
       "      <td>fashion_roupa_infanto_juvenil</td>\n",
       "      <td>52.0</td>\n",
       "      <td>494.0</td>\n",
       "      <td>4.0</td>\n",
       "      <td>600.0</td>\n",
       "      <td>36.0</td>\n",
       "      <td>10.0</td>\n",
       "      <td>26.0</td>\n",
       "      <td>69.0</td>\n",
       "      <td>fashion_childrens_clothes</td>\n",
       "    </tr>\n",
       "  </tbody>\n",
       "</table>\n",
       "<p>118434 rows × 24 columns</p>\n",
       "</div>"
      ],
      "text/plain": [
       "         index_x                          order_id  order_item_id  \\\n",
       "0            0.0  00010242fe8c5a6d1ba2dd792cb16214            1.0   \n",
       "1         8346.0  130898c0987d1801452a8ed92a670612            1.0   \n",
       "2        36646.0  532ed5e14e24ae1f0d735b91524b98b9            1.0   \n",
       "3        49108.0  6f8c31653edb8c83e1a739408b5ff750            1.0   \n",
       "4        55021.0  7d19f4ef4d04461989632411b7e588b9            1.0   \n",
       "...          ...                               ...            ...   \n",
       "118429   81651.0  b99217b1fcf2fdeace7b8d869b76cb91            1.0   \n",
       "118430   82883.0  bc3ac768a8963f4ca68942ea6558fc9f            1.0   \n",
       "118431   89240.0  cab08f0417a702d0f4782ec02356a4ac            1.0   \n",
       "118432   89524.0  cb53f0b6e8f9082a9f5a113765dd1236            1.0   \n",
       "118433  104990.0  ee86b68eb9222b0cad7da50f4f758a35            1.0   \n",
       "\n",
       "                              product_id                         seller_id  \\\n",
       "0       4244733e06e7ecb4970a6e2683c13e61  48436dade18ac8b2bce089ec2a041202   \n",
       "1       4244733e06e7ecb4970a6e2683c13e61  48436dade18ac8b2bce089ec2a041202   \n",
       "2       4244733e06e7ecb4970a6e2683c13e61  48436dade18ac8b2bce089ec2a041202   \n",
       "3       4244733e06e7ecb4970a6e2683c13e61  48436dade18ac8b2bce089ec2a041202   \n",
       "4       4244733e06e7ecb4970a6e2683c13e61  48436dade18ac8b2bce089ec2a041202   \n",
       "...                                  ...                               ...   \n",
       "118429  57bdf3098169cccdb62221bd3e089cbd  d98eec89afa3380e14463da2aabaea72   \n",
       "118430  57bdf3098169cccdb62221bd3e089cbd  d98eec89afa3380e14463da2aabaea72   \n",
       "118431  8cfc3506cedc0626364457d254429118  dbb9b48c841a0e39e21f98e1a6b2ec3e   \n",
       "118432  8cfc3506cedc0626364457d254429118  dbb9b48c841a0e39e21f98e1a6b2ec3e   \n",
       "118433  0ab3ab3b2869073aa9afe795fe9151aa  28ea411b354f14b1a494be4e79f0ce02   \n",
       "\n",
       "        shipping_limit_date   price  freight_value   index_y  \\\n",
       "0       2017-09-19 09:45:35   58.90          13.29   85283.0   \n",
       "1       2017-07-05 02:44:11   55.90          17.96   39274.0   \n",
       "2       2018-05-23 10:56:25   64.90          18.33   87067.0   \n",
       "3       2017-08-07 18:55:08   58.90          16.17   47987.0   \n",
       "4       2017-08-16 22:05:11   58.90          13.29   38405.0   \n",
       "...                     ...     ...            ...       ...   \n",
       "118429  2018-03-13 17:55:36   39.99          10.15   62723.0   \n",
       "118430  2018-03-28 03:09:01   39.99           6.43   49769.0   \n",
       "118431  2017-10-09 04:28:12   89.99          17.07   94491.0   \n",
       "118432  2018-06-11 22:50:09   89.99           7.49   44123.0   \n",
       "118433  2017-05-24 17:55:12  110.00          14.52  100660.0   \n",
       "\n",
       "        payment_sequential  ...          product_category_name  \\\n",
       "0                      1.0  ...                     cool_stuff   \n",
       "1                      1.0  ...                     cool_stuff   \n",
       "2                      1.0  ...                     cool_stuff   \n",
       "3                      1.0  ...                     cool_stuff   \n",
       "4                      1.0  ...                     cool_stuff   \n",
       "...                    ...  ...                            ...   \n",
       "118429                 1.0  ...  fashion_roupa_infanto_juvenil   \n",
       "118430                 1.0  ...  fashion_roupa_infanto_juvenil   \n",
       "118431                 1.0  ...  fashion_roupa_infanto_juvenil   \n",
       "118432                 1.0  ...  fashion_roupa_infanto_juvenil   \n",
       "118433                 1.0  ...  fashion_roupa_infanto_juvenil   \n",
       "\n",
       "        product_name_lenght  product_description_lenght  product_photos_qty  \\\n",
       "0                      58.0                       598.0                 4.0   \n",
       "1                      58.0                       598.0                 4.0   \n",
       "2                      58.0                       598.0                 4.0   \n",
       "3                      58.0                       598.0                 4.0   \n",
       "4                      58.0                       598.0                 4.0   \n",
       "...                     ...                         ...                 ...   \n",
       "118429                 38.0                       168.0                 1.0   \n",
       "118430                 38.0                       168.0                 1.0   \n",
       "118431                 47.0                       327.0                 3.0   \n",
       "118432                 47.0                       327.0                 3.0   \n",
       "118433                 52.0                       494.0                 4.0   \n",
       "\n",
       "       product_weight_g  product_length_cm  product_height_cm  \\\n",
       "0                 650.0               28.0                9.0   \n",
       "1                 650.0               28.0                9.0   \n",
       "2                 650.0               28.0                9.0   \n",
       "3                 650.0               28.0                9.0   \n",
       "4                 650.0               28.0                9.0   \n",
       "...                 ...                ...                ...   \n",
       "118429            100.0               16.0               16.0   \n",
       "118430            100.0               16.0               16.0   \n",
       "118431            300.0               30.0               20.0   \n",
       "118432            300.0               30.0               20.0   \n",
       "118433            600.0               36.0               10.0   \n",
       "\n",
       "        product_width_cm  index_y  product_category_name_english  \n",
       "0                   14.0     22.0                     cool_stuff  \n",
       "1                   14.0     22.0                     cool_stuff  \n",
       "2                   14.0     22.0                     cool_stuff  \n",
       "3                   14.0     22.0                     cool_stuff  \n",
       "4                   14.0     22.0                     cool_stuff  \n",
       "...                  ...      ...                            ...  \n",
       "118429              16.0     69.0      fashion_childrens_clothes  \n",
       "118430              16.0     69.0      fashion_childrens_clothes  \n",
       "118431              20.0     69.0      fashion_childrens_clothes  \n",
       "118432              20.0     69.0      fashion_childrens_clothes  \n",
       "118433              26.0     69.0      fashion_childrens_clothes  \n",
       "\n",
       "[118434 rows x 24 columns]"
      ]
     },
     "execution_count": 5,
     "metadata": {},
     "output_type": "execute_result"
    }
   ],
   "source": [
    "# menggabungkan table yang dibutuhkan menjadi satu dataframes\n",
    "\n",
    "df_olist = df_order_items_dataset.merge(df_order_payments_dataset, on = 'order_id', how = \"outer\").merge(df_products_dataset, on = \"product_id\", how = \"outer\").merge(df_product_category_name_translation, on = \"product_category_name\", how = \"outer\")\n",
    "df_olist"
   ]
  },
  {
   "cell_type": "code",
   "execution_count": 6,
   "id": "45acf9c3",
   "metadata": {},
   "outputs": [
    {
     "data": {
      "text/html": [
       "<div>\n",
       "<style scoped>\n",
       "    .dataframe tbody tr th:only-of-type {\n",
       "        vertical-align: middle;\n",
       "    }\n",
       "\n",
       "    .dataframe tbody tr th {\n",
       "        vertical-align: top;\n",
       "    }\n",
       "\n",
       "    .dataframe thead th {\n",
       "        text-align: right;\n",
       "    }\n",
       "</style>\n",
       "<table border=\"1\" class=\"dataframe\">\n",
       "  <thead>\n",
       "    <tr style=\"text-align: right;\">\n",
       "      <th></th>\n",
       "      <th>order_id</th>\n",
       "      <th>order_item_id</th>\n",
       "      <th>product_id</th>\n",
       "      <th>price</th>\n",
       "      <th>payment_type</th>\n",
       "      <th>payment_value</th>\n",
       "      <th>product_category_name_english</th>\n",
       "    </tr>\n",
       "  </thead>\n",
       "  <tbody>\n",
       "    <tr>\n",
       "      <th>0</th>\n",
       "      <td>00010242fe8c5a6d1ba2dd792cb16214</td>\n",
       "      <td>1.0</td>\n",
       "      <td>4244733e06e7ecb4970a6e2683c13e61</td>\n",
       "      <td>58.90</td>\n",
       "      <td>credit_card</td>\n",
       "      <td>72.19</td>\n",
       "      <td>cool_stuff</td>\n",
       "    </tr>\n",
       "    <tr>\n",
       "      <th>1</th>\n",
       "      <td>130898c0987d1801452a8ed92a670612</td>\n",
       "      <td>1.0</td>\n",
       "      <td>4244733e06e7ecb4970a6e2683c13e61</td>\n",
       "      <td>55.90</td>\n",
       "      <td>boleto</td>\n",
       "      <td>73.86</td>\n",
       "      <td>cool_stuff</td>\n",
       "    </tr>\n",
       "    <tr>\n",
       "      <th>2</th>\n",
       "      <td>532ed5e14e24ae1f0d735b91524b98b9</td>\n",
       "      <td>1.0</td>\n",
       "      <td>4244733e06e7ecb4970a6e2683c13e61</td>\n",
       "      <td>64.90</td>\n",
       "      <td>credit_card</td>\n",
       "      <td>83.23</td>\n",
       "      <td>cool_stuff</td>\n",
       "    </tr>\n",
       "    <tr>\n",
       "      <th>3</th>\n",
       "      <td>6f8c31653edb8c83e1a739408b5ff750</td>\n",
       "      <td>1.0</td>\n",
       "      <td>4244733e06e7ecb4970a6e2683c13e61</td>\n",
       "      <td>58.90</td>\n",
       "      <td>credit_card</td>\n",
       "      <td>75.07</td>\n",
       "      <td>cool_stuff</td>\n",
       "    </tr>\n",
       "    <tr>\n",
       "      <th>4</th>\n",
       "      <td>7d19f4ef4d04461989632411b7e588b9</td>\n",
       "      <td>1.0</td>\n",
       "      <td>4244733e06e7ecb4970a6e2683c13e61</td>\n",
       "      <td>58.90</td>\n",
       "      <td>credit_card</td>\n",
       "      <td>72.19</td>\n",
       "      <td>cool_stuff</td>\n",
       "    </tr>\n",
       "    <tr>\n",
       "      <th>...</th>\n",
       "      <td>...</td>\n",
       "      <td>...</td>\n",
       "      <td>...</td>\n",
       "      <td>...</td>\n",
       "      <td>...</td>\n",
       "      <td>...</td>\n",
       "      <td>...</td>\n",
       "    </tr>\n",
       "    <tr>\n",
       "      <th>118429</th>\n",
       "      <td>b99217b1fcf2fdeace7b8d869b76cb91</td>\n",
       "      <td>1.0</td>\n",
       "      <td>57bdf3098169cccdb62221bd3e089cbd</td>\n",
       "      <td>39.99</td>\n",
       "      <td>credit_card</td>\n",
       "      <td>110.44</td>\n",
       "      <td>fashion_childrens_clothes</td>\n",
       "    </tr>\n",
       "    <tr>\n",
       "      <th>118430</th>\n",
       "      <td>bc3ac768a8963f4ca68942ea6558fc9f</td>\n",
       "      <td>1.0</td>\n",
       "      <td>57bdf3098169cccdb62221bd3e089cbd</td>\n",
       "      <td>39.99</td>\n",
       "      <td>boleto</td>\n",
       "      <td>106.43</td>\n",
       "      <td>fashion_childrens_clothes</td>\n",
       "    </tr>\n",
       "    <tr>\n",
       "      <th>118431</th>\n",
       "      <td>cab08f0417a702d0f4782ec02356a4ac</td>\n",
       "      <td>1.0</td>\n",
       "      <td>8cfc3506cedc0626364457d254429118</td>\n",
       "      <td>89.99</td>\n",
       "      <td>boleto</td>\n",
       "      <td>107.06</td>\n",
       "      <td>fashion_childrens_clothes</td>\n",
       "    </tr>\n",
       "    <tr>\n",
       "      <th>118432</th>\n",
       "      <td>cb53f0b6e8f9082a9f5a113765dd1236</td>\n",
       "      <td>1.0</td>\n",
       "      <td>8cfc3506cedc0626364457d254429118</td>\n",
       "      <td>89.99</td>\n",
       "      <td>credit_card</td>\n",
       "      <td>97.48</td>\n",
       "      <td>fashion_childrens_clothes</td>\n",
       "    </tr>\n",
       "    <tr>\n",
       "      <th>118433</th>\n",
       "      <td>ee86b68eb9222b0cad7da50f4f758a35</td>\n",
       "      <td>1.0</td>\n",
       "      <td>0ab3ab3b2869073aa9afe795fe9151aa</td>\n",
       "      <td>110.00</td>\n",
       "      <td>credit_card</td>\n",
       "      <td>124.52</td>\n",
       "      <td>fashion_childrens_clothes</td>\n",
       "    </tr>\n",
       "  </tbody>\n",
       "</table>\n",
       "<p>118434 rows × 7 columns</p>\n",
       "</div>"
      ],
      "text/plain": [
       "                                order_id  order_item_id  \\\n",
       "0       00010242fe8c5a6d1ba2dd792cb16214            1.0   \n",
       "1       130898c0987d1801452a8ed92a670612            1.0   \n",
       "2       532ed5e14e24ae1f0d735b91524b98b9            1.0   \n",
       "3       6f8c31653edb8c83e1a739408b5ff750            1.0   \n",
       "4       7d19f4ef4d04461989632411b7e588b9            1.0   \n",
       "...                                  ...            ...   \n",
       "118429  b99217b1fcf2fdeace7b8d869b76cb91            1.0   \n",
       "118430  bc3ac768a8963f4ca68942ea6558fc9f            1.0   \n",
       "118431  cab08f0417a702d0f4782ec02356a4ac            1.0   \n",
       "118432  cb53f0b6e8f9082a9f5a113765dd1236            1.0   \n",
       "118433  ee86b68eb9222b0cad7da50f4f758a35            1.0   \n",
       "\n",
       "                              product_id   price payment_type  payment_value  \\\n",
       "0       4244733e06e7ecb4970a6e2683c13e61   58.90  credit_card          72.19   \n",
       "1       4244733e06e7ecb4970a6e2683c13e61   55.90       boleto          73.86   \n",
       "2       4244733e06e7ecb4970a6e2683c13e61   64.90  credit_card          83.23   \n",
       "3       4244733e06e7ecb4970a6e2683c13e61   58.90  credit_card          75.07   \n",
       "4       4244733e06e7ecb4970a6e2683c13e61   58.90  credit_card          72.19   \n",
       "...                                  ...     ...          ...            ...   \n",
       "118429  57bdf3098169cccdb62221bd3e089cbd   39.99  credit_card         110.44   \n",
       "118430  57bdf3098169cccdb62221bd3e089cbd   39.99       boleto         106.43   \n",
       "118431  8cfc3506cedc0626364457d254429118   89.99       boleto         107.06   \n",
       "118432  8cfc3506cedc0626364457d254429118   89.99  credit_card          97.48   \n",
       "118433  0ab3ab3b2869073aa9afe795fe9151aa  110.00  credit_card         124.52   \n",
       "\n",
       "       product_category_name_english  \n",
       "0                         cool_stuff  \n",
       "1                         cool_stuff  \n",
       "2                         cool_stuff  \n",
       "3                         cool_stuff  \n",
       "4                         cool_stuff  \n",
       "...                              ...  \n",
       "118429     fashion_childrens_clothes  \n",
       "118430     fashion_childrens_clothes  \n",
       "118431     fashion_childrens_clothes  \n",
       "118432     fashion_childrens_clothes  \n",
       "118433     fashion_childrens_clothes  \n",
       "\n",
       "[118434 rows x 7 columns]"
      ]
     },
     "execution_count": 6,
     "metadata": {},
     "output_type": "execute_result"
    }
   ],
   "source": [
    "# filter dan tampilkan kolom yang dibutuhkan\n",
    "\n",
    "columns_used = [\"order_id\", \"order_item_id\", \"product_id\", \"price\", \n",
    "                \"payment_type\", \"payment_value\", \"product_category_name_english\"]\n",
    "\n",
    "df_olist_filtered = df_olist[columns_used]\n",
    "df_olist_filtered"
   ]
  },
  {
   "cell_type": "code",
   "execution_count": 7,
   "id": "a0b3e6b8",
   "metadata": {},
   "outputs": [
    {
     "name": "stdout",
     "output_type": "stream",
     "text": [
      "Dataset terdiri dari 118434 baris dan 7 kolom.\n"
     ]
    }
   ],
   "source": [
    "# dimensi dataset\n",
    "\n",
    "rows, columns = df_olist_filtered.shape\n",
    "print(f\"Dataset terdiri dari {rows} baris dan {columns} kolom.\")"
   ]
  },
  {
   "cell_type": "markdown",
   "id": "a8fe4e87",
   "metadata": {},
   "source": [
    "## 1. Data Cleaning"
   ]
  },
  {
   "cell_type": "markdown",
   "id": "2a793471",
   "metadata": {},
   "source": [
    "### 1.1. Missing value handling"
   ]
  },
  {
   "cell_type": "code",
   "execution_count": 8,
   "id": "21412b40",
   "metadata": {},
   "outputs": [
    {
     "name": "stdout",
     "output_type": "stream",
     "text": [
      "<class 'pandas.core.frame.DataFrame'>\n",
      "Int64Index: 118434 entries, 0 to 118433\n",
      "Data columns (total 7 columns):\n",
      " #   Column                         Non-Null Count   Dtype  \n",
      "---  ------                         --------------   -----  \n",
      " 0   order_id                       118434 non-null  object \n",
      " 1   order_item_id                  117604 non-null  float64\n",
      " 2   product_id                     117604 non-null  object \n",
      " 3   price                          117604 non-null  float64\n",
      " 4   payment_type                   118431 non-null  object \n",
      " 5   payment_value                  118431 non-null  float64\n",
      " 6   product_category_name_english  115881 non-null  object \n",
      "dtypes: float64(3), object(4)\n",
      "memory usage: 7.2+ MB\n"
     ]
    }
   ],
   "source": [
    "# general info tentang dataset\n",
    "\n",
    "df_olist_filtered.info()"
   ]
  },
  {
   "cell_type": "code",
   "execution_count": 9,
   "id": "4a373268",
   "metadata": {},
   "outputs": [
    {
     "data": {
      "text/plain": [
       "order_id                         0.000000\n",
       "order_item_id                    0.700812\n",
       "product_id                       0.700812\n",
       "price                            0.700812\n",
       "payment_type                     0.002533\n",
       "payment_value                    0.002533\n",
       "product_category_name_english    2.155631\n",
       "dtype: float64"
      ]
     },
     "execution_count": 9,
     "metadata": {},
     "output_type": "execute_result"
    }
   ],
   "source": [
    "# identifikasi missing values\n",
    "\n",
    "df_olist_filtered.isna().sum() / len(df_olist_filtered) * 100"
   ]
  },
  {
   "cell_type": "code",
   "execution_count": 10,
   "id": "79c51d4e",
   "metadata": {},
   "outputs": [],
   "source": [
    "# menghilangkan baris yang terdapat missing value\n",
    "\n",
    "df_olist_filtered.dropna(inplace=True)"
   ]
  },
  {
   "cell_type": "code",
   "execution_count": 11,
   "id": "85e6f25f",
   "metadata": {},
   "outputs": [
    {
     "data": {
      "text/plain": [
       "order_id                         0\n",
       "order_item_id                    0\n",
       "product_id                       0\n",
       "price                            0\n",
       "payment_type                     0\n",
       "payment_value                    0\n",
       "product_category_name_english    0\n",
       "dtype: int64"
      ]
     },
     "execution_count": 11,
     "metadata": {},
     "output_type": "execute_result"
    }
   ],
   "source": [
    "# re-check missing values setelah drop data\n",
    "\n",
    "df_olist_filtered.isna().sum()"
   ]
  },
  {
   "cell_type": "code",
   "execution_count": 12,
   "id": "1caa7d21",
   "metadata": {},
   "outputs": [
    {
     "name": "stdout",
     "output_type": "stream",
     "text": [
      "Setelah drop missing value, dataset terdiri dari 115878 baris dan 7 kolom.\n"
     ]
    }
   ],
   "source": [
    "# dimensi dataset setelah drop missing value\n",
    "\n",
    "rows, columns = df_olist_filtered.shape\n",
    "print(f\"Setelah drop missing value, dataset terdiri dari {rows} baris dan {columns} kolom.\")"
   ]
  },
  {
   "cell_type": "markdown",
   "id": "5d98dd93",
   "metadata": {},
   "source": [
    "### 1.2. Duplicate data handling"
   ]
  },
  {
   "cell_type": "code",
   "execution_count": 13,
   "id": "187e3e43",
   "metadata": {},
   "outputs": [
    {
     "data": {
      "text/html": [
       "<div>\n",
       "<style scoped>\n",
       "    .dataframe tbody tr th:only-of-type {\n",
       "        vertical-align: middle;\n",
       "    }\n",
       "\n",
       "    .dataframe tbody tr th {\n",
       "        vertical-align: top;\n",
       "    }\n",
       "\n",
       "    .dataframe thead th {\n",
       "        text-align: right;\n",
       "    }\n",
       "</style>\n",
       "<table border=\"1\" class=\"dataframe\">\n",
       "  <thead>\n",
       "    <tr style=\"text-align: right;\">\n",
       "      <th></th>\n",
       "      <th>order_id</th>\n",
       "      <th>order_item_id</th>\n",
       "      <th>product_id</th>\n",
       "      <th>price</th>\n",
       "      <th>payment_type</th>\n",
       "      <th>payment_value</th>\n",
       "      <th>product_category_name_english</th>\n",
       "    </tr>\n",
       "  </thead>\n",
       "  <tbody>\n",
       "    <tr>\n",
       "      <th>8</th>\n",
       "      <td>df2d910b8b5e5f461f67043489f9569d</td>\n",
       "      <td>1.0</td>\n",
       "      <td>4244733e06e7ecb4970a6e2683c13e61</td>\n",
       "      <td>55.90</td>\n",
       "      <td>voucher</td>\n",
       "      <td>20.0</td>\n",
       "      <td>cool_stuff</td>\n",
       "    </tr>\n",
       "    <tr>\n",
       "      <th>9</th>\n",
       "      <td>df2d910b8b5e5f461f67043489f9569d</td>\n",
       "      <td>1.0</td>\n",
       "      <td>4244733e06e7ecb4970a6e2683c13e61</td>\n",
       "      <td>55.90</td>\n",
       "      <td>voucher</td>\n",
       "      <td>20.0</td>\n",
       "      <td>cool_stuff</td>\n",
       "    </tr>\n",
       "    <tr>\n",
       "      <th>339</th>\n",
       "      <td>e5af3df04e781dc26254b1bec2563848</td>\n",
       "      <td>1.0</td>\n",
       "      <td>601a360bd2a916ecef0e88de72a6531a</td>\n",
       "      <td>129.99</td>\n",
       "      <td>voucher</td>\n",
       "      <td>20.0</td>\n",
       "      <td>cool_stuff</td>\n",
       "    </tr>\n",
       "    <tr>\n",
       "      <th>340</th>\n",
       "      <td>e5af3df04e781dc26254b1bec2563848</td>\n",
       "      <td>1.0</td>\n",
       "      <td>601a360bd2a916ecef0e88de72a6531a</td>\n",
       "      <td>129.99</td>\n",
       "      <td>voucher</td>\n",
       "      <td>20.0</td>\n",
       "      <td>cool_stuff</td>\n",
       "    </tr>\n",
       "    <tr>\n",
       "      <th>903</th>\n",
       "      <td>8ca5bdac5ebe8f2d6fc9171d5ebc906a</td>\n",
       "      <td>1.0</td>\n",
       "      <td>165f86fe8b799a708a20ee4ba125c289</td>\n",
       "      <td>169.99</td>\n",
       "      <td>voucher</td>\n",
       "      <td>15.0</td>\n",
       "      <td>cool_stuff</td>\n",
       "    </tr>\n",
       "    <tr>\n",
       "      <th>...</th>\n",
       "      <td>...</td>\n",
       "      <td>...</td>\n",
       "      <td>...</td>\n",
       "      <td>...</td>\n",
       "      <td>...</td>\n",
       "      <td>...</td>\n",
       "      <td>...</td>\n",
       "    </tr>\n",
       "    <tr>\n",
       "      <th>118029</th>\n",
       "      <td>8a8bd4a338e17ace44431e99a2add1d2</td>\n",
       "      <td>1.0</td>\n",
       "      <td>8ac47b3ab13c68f49f10dde899674149</td>\n",
       "      <td>83.99</td>\n",
       "      <td>voucher</td>\n",
       "      <td>20.0</td>\n",
       "      <td>dvds_blu_ray</td>\n",
       "    </tr>\n",
       "    <tr>\n",
       "      <th>118031</th>\n",
       "      <td>8a8bd4a338e17ace44431e99a2add1d2</td>\n",
       "      <td>1.0</td>\n",
       "      <td>8ac47b3ab13c68f49f10dde899674149</td>\n",
       "      <td>83.99</td>\n",
       "      <td>voucher</td>\n",
       "      <td>20.0</td>\n",
       "      <td>dvds_blu_ray</td>\n",
       "    </tr>\n",
       "    <tr>\n",
       "      <th>118032</th>\n",
       "      <td>8a8bd4a338e17ace44431e99a2add1d2</td>\n",
       "      <td>1.0</td>\n",
       "      <td>8ac47b3ab13c68f49f10dde899674149</td>\n",
       "      <td>83.99</td>\n",
       "      <td>voucher</td>\n",
       "      <td>20.0</td>\n",
       "      <td>dvds_blu_ray</td>\n",
       "    </tr>\n",
       "    <tr>\n",
       "      <th>118033</th>\n",
       "      <td>8a8bd4a338e17ace44431e99a2add1d2</td>\n",
       "      <td>1.0</td>\n",
       "      <td>8ac47b3ab13c68f49f10dde899674149</td>\n",
       "      <td>83.99</td>\n",
       "      <td>voucher</td>\n",
       "      <td>20.0</td>\n",
       "      <td>dvds_blu_ray</td>\n",
       "    </tr>\n",
       "    <tr>\n",
       "      <th>118034</th>\n",
       "      <td>8a8bd4a338e17ace44431e99a2add1d2</td>\n",
       "      <td>1.0</td>\n",
       "      <td>8ac47b3ab13c68f49f10dde899674149</td>\n",
       "      <td>83.99</td>\n",
       "      <td>voucher</td>\n",
       "      <td>20.0</td>\n",
       "      <td>dvds_blu_ray</td>\n",
       "    </tr>\n",
       "  </tbody>\n",
       "</table>\n",
       "<p>997 rows × 7 columns</p>\n",
       "</div>"
      ],
      "text/plain": [
       "                                order_id  order_item_id  \\\n",
       "8       df2d910b8b5e5f461f67043489f9569d            1.0   \n",
       "9       df2d910b8b5e5f461f67043489f9569d            1.0   \n",
       "339     e5af3df04e781dc26254b1bec2563848            1.0   \n",
       "340     e5af3df04e781dc26254b1bec2563848            1.0   \n",
       "903     8ca5bdac5ebe8f2d6fc9171d5ebc906a            1.0   \n",
       "...                                  ...            ...   \n",
       "118029  8a8bd4a338e17ace44431e99a2add1d2            1.0   \n",
       "118031  8a8bd4a338e17ace44431e99a2add1d2            1.0   \n",
       "118032  8a8bd4a338e17ace44431e99a2add1d2            1.0   \n",
       "118033  8a8bd4a338e17ace44431e99a2add1d2            1.0   \n",
       "118034  8a8bd4a338e17ace44431e99a2add1d2            1.0   \n",
       "\n",
       "                              product_id   price payment_type  payment_value  \\\n",
       "8       4244733e06e7ecb4970a6e2683c13e61   55.90      voucher           20.0   \n",
       "9       4244733e06e7ecb4970a6e2683c13e61   55.90      voucher           20.0   \n",
       "339     601a360bd2a916ecef0e88de72a6531a  129.99      voucher           20.0   \n",
       "340     601a360bd2a916ecef0e88de72a6531a  129.99      voucher           20.0   \n",
       "903     165f86fe8b799a708a20ee4ba125c289  169.99      voucher           15.0   \n",
       "...                                  ...     ...          ...            ...   \n",
       "118029  8ac47b3ab13c68f49f10dde899674149   83.99      voucher           20.0   \n",
       "118031  8ac47b3ab13c68f49f10dde899674149   83.99      voucher           20.0   \n",
       "118032  8ac47b3ab13c68f49f10dde899674149   83.99      voucher           20.0   \n",
       "118033  8ac47b3ab13c68f49f10dde899674149   83.99      voucher           20.0   \n",
       "118034  8ac47b3ab13c68f49f10dde899674149   83.99      voucher           20.0   \n",
       "\n",
       "       product_category_name_english  \n",
       "8                         cool_stuff  \n",
       "9                         cool_stuff  \n",
       "339                       cool_stuff  \n",
       "340                       cool_stuff  \n",
       "903                       cool_stuff  \n",
       "...                              ...  \n",
       "118029                  dvds_blu_ray  \n",
       "118031                  dvds_blu_ray  \n",
       "118032                  dvds_blu_ray  \n",
       "118033                  dvds_blu_ray  \n",
       "118034                  dvds_blu_ray  \n",
       "\n",
       "[997 rows x 7 columns]"
      ]
     },
     "execution_count": 13,
     "metadata": {},
     "output_type": "execute_result"
    }
   ],
   "source": [
    "# duplicates check\n",
    "\n",
    "df_olist_filtered[df_olist_filtered.duplicated(keep = False)]"
   ]
  },
  {
   "cell_type": "code",
   "execution_count": 14,
   "id": "fee62ef0",
   "metadata": {},
   "outputs": [
    {
     "name": "stdout",
     "output_type": "stream",
     "text": [
      "Terdapat 657 data duplikat.\n"
     ]
    }
   ],
   "source": [
    "# jumlah data duplikat\n",
    "\n",
    "n_duplikat = df_olist_filtered.duplicated().sum()\n",
    "print(f\"Terdapat {n_duplikat} data duplikat.\")"
   ]
  },
  {
   "cell_type": "code",
   "execution_count": 15,
   "id": "cd8593a3",
   "metadata": {},
   "outputs": [],
   "source": [
    "# keep first value\n",
    "\n",
    "df_olist_filtered.drop_duplicates(keep = 'first', inplace = True)"
   ]
  },
  {
   "cell_type": "code",
   "execution_count": 16,
   "id": "a54bbb9a",
   "metadata": {},
   "outputs": [
    {
     "data": {
      "text/plain": [
       "0"
      ]
     },
     "execution_count": 16,
     "metadata": {},
     "output_type": "execute_result"
    }
   ],
   "source": [
    "# re-check duplikat setelah drop data\n",
    "\n",
    "df_olist_filtered.duplicated().sum()"
   ]
  },
  {
   "cell_type": "code",
   "execution_count": 17,
   "id": "c95d7e0d",
   "metadata": {},
   "outputs": [
    {
     "name": "stdout",
     "output_type": "stream",
     "text": [
      "Setelah drop duplicates, dataset terdiri dari 115221 baris dan 7 kolom.\n"
     ]
    }
   ],
   "source": [
    "# dimensi dataset setelah drop duplicates\n",
    "\n",
    "rows, columns = df_olist_filtered.shape\n",
    "print(f\"Setelah drop duplicates, dataset terdiri dari {rows} baris dan {columns} kolom.\")"
   ]
  },
  {
   "cell_type": "markdown",
   "id": "7b8c3c76",
   "metadata": {},
   "source": [
    "### 1.3. Inconsistent data handling"
   ]
  },
  {
   "cell_type": "code",
   "execution_count": 18,
   "id": "bfecd891",
   "metadata": {},
   "outputs": [
    {
     "data": {
      "text/plain": [
       "array([ 1.,  2.,  4.,  3.,  5.,  6.,  7.,  8.,  9., 10., 11., 12., 13.,\n",
       "       14., 15., 16., 17., 18., 19., 20., 21.])"
      ]
     },
     "execution_count": 18,
     "metadata": {},
     "output_type": "execute_result"
    }
   ],
   "source": [
    "# check kolom order_item_id\n",
    "\n",
    "df_olist_filtered['order_item_id'].unique()"
   ]
  },
  {
   "cell_type": "code",
   "execution_count": 19,
   "id": "1004e471",
   "metadata": {},
   "outputs": [
    {
     "data": {
      "text/plain": [
       "array([ 58.9 ,  55.9 ,  64.9 , ..., 289.49, 139.05, 183.29])"
      ]
     },
     "execution_count": 19,
     "metadata": {},
     "output_type": "execute_result"
    }
   ],
   "source": [
    "# check kolom price\n",
    "\n",
    "df_olist_filtered['price'].unique()"
   ]
  },
  {
   "cell_type": "code",
   "execution_count": 20,
   "id": "1bdd95c6",
   "metadata": {},
   "outputs": [
    {
     "data": {
      "text/plain": [
       "array(['credit_card', 'boleto', 'voucher', 'debit_card'], dtype=object)"
      ]
     },
     "execution_count": 20,
     "metadata": {},
     "output_type": "execute_result"
    }
   ],
   "source": [
    "# check kolom payment_type\n",
    "\n",
    "df_olist_filtered['payment_type'].unique()"
   ]
  },
  {
   "cell_type": "code",
   "execution_count": 21,
   "id": "810d6fae",
   "metadata": {},
   "outputs": [
    {
     "data": {
      "text/plain": [
       "array([ 72.19,  73.86,  83.23, ..., 334.12, 160.83, 426.7 ])"
      ]
     },
     "execution_count": 21,
     "metadata": {},
     "output_type": "execute_result"
    }
   ],
   "source": [
    "# check kolom payment_value\n",
    "\n",
    "df_olist_filtered['payment_value'].unique()"
   ]
  },
  {
   "cell_type": "markdown",
   "id": "ff321fc9",
   "metadata": {},
   "source": [
    "Tidak terdapat inconsistent data pada dataset."
   ]
  },
  {
   "cell_type": "markdown",
   "id": "65a65de5",
   "metadata": {},
   "source": [
    "### 1.4. Outliers handling"
   ]
  },
  {
   "cell_type": "code",
   "execution_count": 22,
   "id": "ae19da4a",
   "metadata": {
    "scrolled": true
   },
   "outputs": [
    {
     "data": {
      "text/html": [
       "<div>\n",
       "<style scoped>\n",
       "    .dataframe tbody tr th:only-of-type {\n",
       "        vertical-align: middle;\n",
       "    }\n",
       "\n",
       "    .dataframe tbody tr th {\n",
       "        vertical-align: top;\n",
       "    }\n",
       "\n",
       "    .dataframe thead th {\n",
       "        text-align: right;\n",
       "    }\n",
       "</style>\n",
       "<table border=\"1\" class=\"dataframe\">\n",
       "  <thead>\n",
       "    <tr style=\"text-align: right;\">\n",
       "      <th></th>\n",
       "      <th>count</th>\n",
       "      <th>mean</th>\n",
       "      <th>std</th>\n",
       "      <th>min</th>\n",
       "      <th>25%</th>\n",
       "      <th>50%</th>\n",
       "      <th>75%</th>\n",
       "      <th>max</th>\n",
       "    </tr>\n",
       "  </thead>\n",
       "  <tbody>\n",
       "    <tr>\n",
       "      <th>order_item_id</th>\n",
       "      <td>115221.0</td>\n",
       "      <td>1.196336</td>\n",
       "      <td>0.700165</td>\n",
       "      <td>1.00</td>\n",
       "      <td>1.00</td>\n",
       "      <td>1.00</td>\n",
       "      <td>1.00</td>\n",
       "      <td>21.00</td>\n",
       "    </tr>\n",
       "    <tr>\n",
       "      <th>price</th>\n",
       "      <td>115221.0</td>\n",
       "      <td>120.905681</td>\n",
       "      <td>184.206014</td>\n",
       "      <td>0.85</td>\n",
       "      <td>39.90</td>\n",
       "      <td>74.90</td>\n",
       "      <td>134.90</td>\n",
       "      <td>6735.00</td>\n",
       "    </tr>\n",
       "    <tr>\n",
       "      <th>payment_value</th>\n",
       "      <td>115221.0</td>\n",
       "      <td>173.810937</td>\n",
       "      <td>268.634255</td>\n",
       "      <td>0.00</td>\n",
       "      <td>61.71</td>\n",
       "      <td>108.81</td>\n",
       "      <td>190.37</td>\n",
       "      <td>13664.08</td>\n",
       "    </tr>\n",
       "  </tbody>\n",
       "</table>\n",
       "</div>"
      ],
      "text/plain": [
       "                  count        mean         std   min    25%     50%     75%  \\\n",
       "order_item_id  115221.0    1.196336    0.700165  1.00   1.00    1.00    1.00   \n",
       "price          115221.0  120.905681  184.206014  0.85  39.90   74.90  134.90   \n",
       "payment_value  115221.0  173.810937  268.634255  0.00  61.71  108.81  190.37   \n",
       "\n",
       "                    max  \n",
       "order_item_id     21.00  \n",
       "price           6735.00  \n",
       "payment_value  13664.08  "
      ]
     },
     "execution_count": 22,
     "metadata": {},
     "output_type": "execute_result"
    }
   ],
   "source": [
    "# menampilkan statistika deskriptif\n",
    "\n",
    "df_olist_filtered.describe().T"
   ]
  },
  {
   "cell_type": "code",
   "execution_count": 23,
   "id": "6048b751",
   "metadata": {},
   "outputs": [
    {
     "data": {
      "image/png": "[encoded data removed]",
      "text/plain": [
       "<Figure size 1400x400 with 2 Axes>"
      ]
     },
     "metadata": {},
     "output_type": "display_data"
    }
   ],
   "source": [
    "# identifikasi outliers pada kolom price dan payment_value\n",
    "\n",
    "# membuat subplot 1 x 2\n",
    "fig, ax = plt.subplots(ncols = 2, nrows = 1, figsize = (14, 4))\n",
    "\n",
    "# subplot kolom price\n",
    "sns.histplot(data = df_olist_filtered, x = 'price', bins = 50, ax = ax[0])\n",
    "\n",
    "# subplot kolom payment_value\n",
    "sns.histplot(data = df_olist_filtered, x = 'payment_value', bins = 50, ax = ax[1])\n",
    "\n",
    "# menampilkan plot\n",
    "plt.show()"
   ]
  },
  {
   "cell_type": "code",
   "execution_count": 24,
   "id": "4e168581",
   "metadata": {},
   "outputs": [
    {
     "name": "stdout",
     "output_type": "stream",
     "text": [
      "Q1_price : 39.90\n",
      "Q3_price : 134.90\n"
     ]
    }
   ],
   "source": [
    "# mencari nilai Q1 & Q3 untuk kolom price\n",
    "Q1_price = df_olist_filtered.price.quantile(0.25)\n",
    "Q3_price = df_olist_filtered.price.quantile(0.75)\n",
    "\n",
    "print(f\"Q1_price : {Q1_price:.2f}\")\n",
    "print(f\"Q3_price : {Q3_price:.2f}\")"
   ]
  },
  {
   "cell_type": "code",
   "execution_count": 25,
   "id": "5d49d630",
   "metadata": {},
   "outputs": [
    {
     "name": "stdout",
     "output_type": "stream",
     "text": [
      "IQR kolom price : 95.00\n",
      "Maximum Boundary kolom price : 277.40\n"
     ]
    }
   ],
   "source": [
    "# menghitung IQR & batas maksimum untuk kolom price\n",
    "IQR_price = Q3_price - Q1_price\n",
    "max_bound_price = Q3_price + 1.5 * IQR_price\n",
    "\n",
    "print(f\"IQR kolom price : {IQR_price:.2f}\")\n",
    "print(f\"Maximum Boundary kolom price : {max_bound_price:.2f}\")"
   ]
  },
  {
   "cell_type": "code",
   "execution_count": 26,
   "id": "2e36d92e",
   "metadata": {},
   "outputs": [
    {
     "name": "stdout",
     "output_type": "stream",
     "text": [
      "Q1_payment : 61.71\n",
      "Q3_payment : 190.37\n"
     ]
    }
   ],
   "source": [
    "# mencari nilai Q1 & Q3 untuk kolom payment_value\n",
    "Q1_payment = df_olist_filtered.payment_value.quantile(0.25)\n",
    "Q3_payment = df_olist_filtered.payment_value.quantile(0.75)\n",
    "\n",
    "print(f\"Q1_payment : {Q1_payment:.2f}\")\n",
    "print(f\"Q3_payment : {Q3_payment:.2f}\")"
   ]
  },
  {
   "cell_type": "code",
   "execution_count": 27,
   "id": "42f702b3",
   "metadata": {},
   "outputs": [
    {
     "name": "stdout",
     "output_type": "stream",
     "text": [
      "IQR kolom payment_value : 128.66\n",
      "Maximum Boundary kolom payment_value : 383.36\n"
     ]
    }
   ],
   "source": [
    "# menghitung IQR & batas maksimum untuk kolom payment_value\n",
    "IQR_payment = Q3_payment - Q1_payment\n",
    "max_bound_payment = Q3_payment + 1.5 * IQR_payment\n",
    "\n",
    "print(f\"IQR kolom payment_value : {IQR_payment:.2f}\")\n",
    "print(f\"Maximum Boundary kolom payment_value : {max_bound_payment:.2f}\")"
   ]
  },
  {
   "cell_type": "code",
   "execution_count": 28,
   "id": "87f3039e",
   "metadata": {},
   "outputs": [
    {
     "name": "stdout",
     "output_type": "stream",
     "text": [
      "Jumlah data outliers pada kolom price : 8691 data.\n",
      "Percentage outliers pada kolom price : 7.54%.\n"
     ]
    }
   ],
   "source": [
    "# jumlah data outliers pada kolom price\n",
    "n_outliers_price = df_olist_filtered[(df_olist_filtered['price'] > max_bound_price)].value_counts().sum()\n",
    "\n",
    "# percentage outliers pada kolom price\n",
    "percentage_outliers_price = n_outliers_price / df_olist_filtered.shape[0] * 100\n",
    "\n",
    "print(f\"Jumlah data outliers pada kolom price : {n_outliers_price} data.\")\n",
    "print(f\"Percentage outliers pada kolom price : {percentage_outliers_price:.2f}%.\")"
   ]
  },
  {
   "cell_type": "code",
   "execution_count": 29,
   "id": "e258832b",
   "metadata": {},
   "outputs": [
    {
     "name": "stdout",
     "output_type": "stream",
     "text": [
      "Jumlah data outliers pada kolom payment_value : 9324 data.\n",
      "Percentage outliers pada kolom payment_value : 8.09%.\n"
     ]
    }
   ],
   "source": [
    "# jumlah data outliers pada kolom payment_value\n",
    "n_outliers_payment = df_olist_filtered[(df_olist_filtered['payment_value'] > max_bound_payment)].value_counts().sum()\n",
    "\n",
    "# percentage outliers pada kolom payment_value\n",
    "percentage_outliers_payment = n_outliers_payment / df_olist_filtered.shape[0] * 100\n",
    "\n",
    "print(f\"Jumlah data outliers pada kolom payment_value : {n_outliers_payment} data.\")\n",
    "print(f\"Percentage outliers pada kolom payment_value : {percentage_outliers_payment:.2f}%.\")"
   ]
  },
  {
   "cell_type": "markdown",
   "id": "a2f58d28",
   "metadata": {},
   "source": [
    "Percentage outliers lebih dari 5%, maka nilai outliers akan disubstitusi dengan nilai median pada masing-masing kolom."
   ]
  },
  {
   "cell_type": "code",
   "execution_count": 30,
   "id": "0ab7b4a3",
   "metadata": {},
   "outputs": [],
   "source": [
    "# menghitung median\n",
    "median_price = df_olist_filtered[\"price\"].median()\n",
    "median_payment = df_olist_filtered[\"payment_value\"].median()\n",
    "\n",
    "# substitusi nilai outliers dengan median\n",
    "df_olist_filtered.loc[df_olist_filtered['price'] > max_bound_price, 'price'] = median_price\n",
    "df_olist_filtered.loc[df_olist_filtered['payment_value'] > max_bound_payment, 'payment_value'] = median_payment"
   ]
  },
  {
   "cell_type": "code",
   "execution_count": 31,
   "id": "6aeb7ac1",
   "metadata": {},
   "outputs": [
    {
     "name": "stdout",
     "output_type": "stream",
     "text": [
      "Data outliers price : 0.\n",
      "Data outliers payment_value : 0.\n"
     ]
    }
   ],
   "source": [
    "# re-check data outliers\n",
    "\n",
    "n_outliers_price = df_olist_filtered[(df_olist_filtered['price'] > max_bound_price)].value_counts().sum()\n",
    "n_outliers_payment = df_olist_filtered[(df_olist_filtered['payment_value'] > max_bound_payment)].value_counts().sum()\n",
    "\n",
    "print(f\"Data outliers price : {n_outliers_price}.\")\n",
    "print(f\"Data outliers payment_value : {n_outliers_payment}.\")"
   ]
  },
  {
   "cell_type": "code",
   "execution_count": 32,
   "id": "e1f48db6",
   "metadata": {},
   "outputs": [
    {
     "data": {
      "image/png": "[encoded data removed]",
      "text/plain": [
       "<Figure size 1400x400 with 2 Axes>"
      ]
     },
     "metadata": {},
     "output_type": "display_data"
    }
   ],
   "source": [
    "# plot setelah outliers handling\n",
    "\n",
    "# membuat subplot 1 x 2\n",
    "fig, ax = plt.subplots(ncols = 2, nrows = 1, figsize = (14, 4))\n",
    "\n",
    "# subplot kolom price\n",
    "sns.histplot(data = df_olist_filtered, x = 'price', bins = 50, ax = ax[0])\n",
    "\n",
    "# subplot kolom payment_value\n",
    "sns.histplot(data = df_olist_filtered, x = 'payment_value', bins = 50, ax = ax[1])\n",
    "\n",
    "# menampilkan plot\n",
    "plt.show()"
   ]
  },
  {
   "cell_type": "markdown",
   "id": "2560097b",
   "metadata": {},
   "source": [
    "## 2. Analisis Data"
   ]
  },
  {
   "cell_type": "markdown",
   "id": "9f058b8b",
   "metadata": {},
   "source": [
    "### 2.1. Mengetahui 5 produk dengan penjualan tertinggi"
   ]
  },
  {
   "cell_type": "code",
   "execution_count": 33,
   "id": "7d8b0f42",
   "metadata": {},
   "outputs": [
    {
     "data": {
      "text/html": [
       "<div>\n",
       "<style scoped>\n",
       "    .dataframe tbody tr th:only-of-type {\n",
       "        vertical-align: middle;\n",
       "    }\n",
       "\n",
       "    .dataframe tbody tr th {\n",
       "        vertical-align: top;\n",
       "    }\n",
       "\n",
       "    .dataframe thead th {\n",
       "        text-align: right;\n",
       "    }\n",
       "</style>\n",
       "<table border=\"1\" class=\"dataframe\">\n",
       "  <thead>\n",
       "    <tr style=\"text-align: right;\">\n",
       "      <th></th>\n",
       "      <th>product_category_name_english</th>\n",
       "      <th>order_item_id</th>\n",
       "    </tr>\n",
       "  </thead>\n",
       "  <tbody>\n",
       "    <tr>\n",
       "      <th>0</th>\n",
       "      <td>bed_bath_table</td>\n",
       "      <td>14399.0</td>\n",
       "    </tr>\n",
       "    <tr>\n",
       "      <th>1</th>\n",
       "      <td>furniture_decor</td>\n",
       "      <td>12009.0</td>\n",
       "    </tr>\n",
       "    <tr>\n",
       "      <th>2</th>\n",
       "      <td>health_beauty</td>\n",
       "      <td>11371.0</td>\n",
       "    </tr>\n",
       "    <tr>\n",
       "      <th>3</th>\n",
       "      <td>sports_leisure</td>\n",
       "      <td>10204.0</td>\n",
       "    </tr>\n",
       "    <tr>\n",
       "      <th>4</th>\n",
       "      <td>computers_accessories</td>\n",
       "      <td>10174.0</td>\n",
       "    </tr>\n",
       "  </tbody>\n",
       "</table>\n",
       "</div>"
      ],
      "text/plain": [
       "  product_category_name_english  order_item_id\n",
       "0                bed_bath_table        14399.0\n",
       "1               furniture_decor        12009.0\n",
       "2                 health_beauty        11371.0\n",
       "3                sports_leisure        10204.0\n",
       "4         computers_accessories        10174.0"
      ]
     },
     "execution_count": 33,
     "metadata": {},
     "output_type": "execute_result"
    }
   ],
   "source": [
    "# aggregate order_item_id berdasarkan groupby product_category\n",
    "\n",
    "top_products = df_olist_filtered.groupby('product_category_name_english').agg({'order_item_id':'sum'}).nlargest(5, 'order_item_id').reset_index()\n",
    "top_products"
   ]
  },
  {
   "cell_type": "code",
   "execution_count": 34,
   "id": "f5caa6ae",
   "metadata": {},
   "outputs": [
    {
     "data": {
      "image/png": "[encoded data removed]",
      "text/plain": [
       "<Figure size 1000x400 with 1 Axes>"
      ]
     },
     "metadata": {},
     "output_type": "display_data"
    }
   ],
   "source": [
    "# visualisasi top_products\n",
    "\n",
    "# membuat figure\n",
    "plt.figure(figsize=(10, 4))\n",
    "\n",
    "# membuat plot\n",
    "sns.barplot(data = top_products, y = 'product_category_name_english', x = 'order_item_id')\n",
    "\n",
    "# membuat nama judul plot\n",
    "plt.title('5 Produk Dengan Penjualan Tertingi', fontsize= 15)\n",
    "\n",
    "# membuat nama label x\n",
    "plt.ylabel('Kategori Produk')\n",
    "\n",
    "# membuat nama label y\n",
    "plt.xlabel('Total Penjualan')\n",
    "\n",
    "## menampilkan plot\n",
    "plt.show()"
   ]
  },
  {
   "cell_type": "markdown",
   "id": "6c28a089",
   "metadata": {},
   "source": [
    "### 2.2. Mengetahui 5 produk dengan revenue tertinggi"
   ]
  },
  {
   "cell_type": "code",
   "execution_count": 35,
   "id": "a23638fd",
   "metadata": {},
   "outputs": [
    {
     "data": {
      "text/html": [
       "<div>\n",
       "<style scoped>\n",
       "    .dataframe tbody tr th:only-of-type {\n",
       "        vertical-align: middle;\n",
       "    }\n",
       "\n",
       "    .dataframe tbody tr th {\n",
       "        vertical-align: top;\n",
       "    }\n",
       "\n",
       "    .dataframe thead th {\n",
       "        text-align: right;\n",
       "    }\n",
       "</style>\n",
       "<table border=\"1\" class=\"dataframe\">\n",
       "  <thead>\n",
       "    <tr style=\"text-align: right;\">\n",
       "      <th></th>\n",
       "      <th>product_category_name_english</th>\n",
       "      <th>payment_value</th>\n",
       "    </tr>\n",
       "  </thead>\n",
       "  <tbody>\n",
       "    <tr>\n",
       "      <th>0</th>\n",
       "      <td>bed_bath_table</td>\n",
       "      <td>1436723.51</td>\n",
       "    </tr>\n",
       "    <tr>\n",
       "      <th>1</th>\n",
       "      <td>health_beauty</td>\n",
       "      <td>1185968.42</td>\n",
       "    </tr>\n",
       "    <tr>\n",
       "      <th>2</th>\n",
       "      <td>furniture_decor</td>\n",
       "      <td>1132484.82</td>\n",
       "    </tr>\n",
       "    <tr>\n",
       "      <th>3</th>\n",
       "      <td>sports_leisure</td>\n",
       "      <td>1087968.40</td>\n",
       "    </tr>\n",
       "    <tr>\n",
       "      <th>4</th>\n",
       "      <td>computers_accessories</td>\n",
       "      <td>989191.23</td>\n",
       "    </tr>\n",
       "  </tbody>\n",
       "</table>\n",
       "</div>"
      ],
      "text/plain": [
       "  product_category_name_english  payment_value\n",
       "0                bed_bath_table     1436723.51\n",
       "1                 health_beauty     1185968.42\n",
       "2               furniture_decor     1132484.82\n",
       "3                sports_leisure     1087968.40\n",
       "4         computers_accessories      989191.23"
      ]
     },
     "execution_count": 35,
     "metadata": {},
     "output_type": "execute_result"
    }
   ],
   "source": [
    "# aggregate payment_value berdasarkan groupby product_category\n",
    "\n",
    "top_revenue = df_olist_filtered.groupby('product_category_name_english').agg({'payment_value':'sum'}).nlargest(5, 'payment_value').reset_index()\n",
    "top_revenue"
   ]
  },
  {
   "cell_type": "code",
   "execution_count": 36,
   "id": "4caef8dc",
   "metadata": {},
   "outputs": [
    {
     "data": {
      "image/png": "[encoded data removed]",
      "text/plain": [
       "<Figure size 1000x400 with 1 Axes>"
      ]
     },
     "metadata": {},
     "output_type": "display_data"
    }
   ],
   "source": [
    "# visualisasi top_revenue\n",
    "\n",
    "# membuat figure\n",
    "plt.figure(figsize=(10, 4))\n",
    "\n",
    "# membuat plot\n",
    "sns.barplot(data = top_revenue, y = 'product_category_name_english', x = 'payment_value')\n",
    "\n",
    "# membuat nama judul plot\n",
    "plt.title('5 Produk Dengan Revenue Tertingi', fontsize= 15)\n",
    "\n",
    "# membuat nama label x\n",
    "plt.ylabel('Kategori Produk')\n",
    "\n",
    "# membuat nama label y\n",
    "plt.xlabel('Revenue')\n",
    "\n",
    "## menampilkan plot\n",
    "plt.show()"
   ]
  },
  {
   "cell_type": "markdown",
   "id": "7ff22a5c",
   "metadata": {},
   "source": [
    "### 2.3. Metode pembayaran yang paling sering digunakan"
   ]
  },
  {
   "cell_type": "code",
   "execution_count": 37,
   "id": "3a80c1c8",
   "metadata": {},
   "outputs": [
    {
     "data": {
      "text/html": [
       "<div>\n",
       "<style scoped>\n",
       "    .dataframe tbody tr th:only-of-type {\n",
       "        vertical-align: middle;\n",
       "    }\n",
       "\n",
       "    .dataframe tbody tr th {\n",
       "        vertical-align: top;\n",
       "    }\n",
       "\n",
       "    .dataframe thead th {\n",
       "        text-align: right;\n",
       "    }\n",
       "</style>\n",
       "<table border=\"1\" class=\"dataframe\">\n",
       "  <thead>\n",
       "    <tr style=\"text-align: right;\">\n",
       "      <th></th>\n",
       "      <th>payment_type</th>\n",
       "      <th>order_id</th>\n",
       "    </tr>\n",
       "  </thead>\n",
       "  <tbody>\n",
       "    <tr>\n",
       "      <th>0</th>\n",
       "      <td>credit_card</td>\n",
       "      <td>85500</td>\n",
       "    </tr>\n",
       "    <tr>\n",
       "      <th>1</th>\n",
       "      <td>boleto</td>\n",
       "      <td>22542</td>\n",
       "    </tr>\n",
       "    <tr>\n",
       "      <th>2</th>\n",
       "      <td>voucher</td>\n",
       "      <td>5521</td>\n",
       "    </tr>\n",
       "    <tr>\n",
       "      <th>3</th>\n",
       "      <td>debit_card</td>\n",
       "      <td>1658</td>\n",
       "    </tr>\n",
       "  </tbody>\n",
       "</table>\n",
       "</div>"
      ],
      "text/plain": [
       "  payment_type  order_id\n",
       "0  credit_card     85500\n",
       "1       boleto     22542\n",
       "2      voucher      5521\n",
       "3   debit_card      1658"
      ]
     },
     "execution_count": 37,
     "metadata": {},
     "output_type": "execute_result"
    }
   ],
   "source": [
    "top_payment_types = df_olist_filtered.groupby('payment_type').agg({'order_id':'count'}).nlargest(5, 'order_id').reset_index()\n",
    "top_payment_types"
   ]
  },
  {
   "cell_type": "code",
   "execution_count": 38,
   "id": "208073b3",
   "metadata": {},
   "outputs": [
    {
     "data": {
      "image/png": "[encoded data removed]",
      "text/plain": [
       "<Figure size 1000x400 with 1 Axes>"
      ]
     },
     "metadata": {},
     "output_type": "display_data"
    }
   ],
   "source": [
    "# visualisasi top_payment_types\n",
    "\n",
    "# membuat figure\n",
    "plt.figure(figsize=(10, 4))\n",
    "\n",
    "# membuat plot\n",
    "sns.barplot(data = top_payment_types, x = 'payment_type', y = 'order_id')\n",
    "\n",
    "# membuat nama judul plot\n",
    "plt.title('Metode Pembayaran Populer', fontsize= 15)\n",
    "\n",
    "# membuat nama label x\n",
    "plt.xlabel('Tipe Pembayaran')\n",
    "\n",
    "# membuat nama label y\n",
    "plt.ylabel('Frekuensi')\n",
    "\n",
    "## menampilkan plot\n",
    "plt.show()"
   ]
  }
 ],
 "metadata": {
  "kernelspec": {
   "display_name": "Python 3 (ipykernel)",
   "language": "python",
   "name": "python3"
  },
  "language_info": {
   "codemirror_mode": {
    "name": "ipython",
    "version": 3
   },
   "file_extension": ".py",
   "mimetype": "text/x-python",
   "name": "python",
   "nbconvert_exporter": "python",
   "pygments_lexer": "ipython3",
   "version": "3.9.13"
  }
 },
 "nbformat": 4,
 "nbformat_minor": 5
}
